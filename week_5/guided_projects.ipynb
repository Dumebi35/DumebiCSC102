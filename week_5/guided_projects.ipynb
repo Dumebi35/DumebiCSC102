{
 "cells": [
  {
   "cell_type": "markdown",
   "metadata": {},
   "source": [
    "# Project 1"
   ]
  },
  {
   "cell_type": "markdown",
   "metadata": {},
   "source": [
    "## Pseudocode"
   ]
  },
  {
   "cell_type": "markdown",
   "metadata": {},
   "source": [
    "<br> BEGIN\n",
    "<br> SET n = 0\n",
    "<br> DEFINE function avoids\n",
    "    <br> INPUT letter\n",
    "    <br> INPUT word\n",
    "    <br> FOR i in word THEN\n",
    "            IF i in letter\n",
    "            n = n + 1\n",
    "         PRINT n\n",
    "         IF n EQUALS 0 THEN:\n",
    "             PRINT (True)\n",
    "<br> CALL function avoids\n",
    "<br>END"
   ]
  },
  {
   "cell_type": "code",
   "execution_count": 61,
   "metadata": {},
   "outputs": [
    {
     "name": "stdout",
     "output_type": "stream",
     "text": [
      "Please enter forbidden letters: pl\n",
      "Please enter a word: play\n",
      "There are 2 forbidden letters\n"
     ]
    }
   ],
   "source": [
    "\n",
    "def avoids():\n",
    "    n = 0\n",
    "    letter = input(\"Please enter forbidden letters: \")\n",
    "    \n",
    "    word = input(\"Please enter a word: \")\n",
    "    \n",
    "    for i in word:\n",
    "        if i in letter:\n",
    "            n +=1\n",
    "            \n",
    "    print(\"There are\", str(n), \"forbidden letters\")\n",
    "    if n == 0:\n",
    "        print(True)   \n",
    "           \n",
    "avoids()"
   ]
  },
  {
   "cell_type": "markdown",
   "metadata": {},
   "source": [
    "# Project 2"
   ]
  },
  {
   "cell_type": "code",
   "execution_count": 58,
   "metadata": {},
   "outputs": [
    {
     "name": "stdout",
     "output_type": "stream",
     "text": [
      "Please enter a word: bed\n",
      "Please enter required letters: ed\n",
      "True\n",
      "Not all vowels were used\n"
     ]
    }
   ],
   "source": [
    "def uses_all():\n",
    "    n = 0\n",
    "    v = 0\n",
    "    word = input(\"Please enter a word: \")\n",
    "    letter = input(\"Please enter required letters: \")\n",
    "    vowels = ['a', 'e', 'i', 'o', 'u']\n",
    "    for i in word:\n",
    "        if i in letter:\n",
    "            n +=1\n",
    "            \n",
    "    if n>= len(letter):\n",
    "            print(True)\n",
    "    else:\n",
    "        print(\"Not all required letters were used\")\n",
    "        \n",
    "    for i in word:\n",
    "        if i in vowels:\n",
    "            v+=1\n",
    "    if v>= len(letter):\n",
    "            print(True)\n",
    "    else:\n",
    "        print(\"Not all vowels were used\")        \n",
    "            \n",
    "           \n",
    "uses_all()\n",
    "\n",
    "#if word.count(i) > 1:\n",
    " #           thing.remove(i)\n",
    "  #          if thing.count(i) == 1:\n",
    "   #             print(len(thing))"
   ]
  },
  {
   "cell_type": "markdown",
   "metadata": {},
   "source": [
    "# Project 3"
   ]
  },
  {
   "cell_type": "code",
   "execution_count": 29,
   "metadata": {},
   "outputs": [
    {
     "name": "stdout",
     "output_type": "stream",
     "text": [
      "Jane, Do you declare even or odd? odd\n",
      "Jack, Do you declare even or odd? odd\n",
      "Jane played 2 fingers\n",
      "Jack played 0 fingers\n",
      "Combination is even\n",
      "You both lose\n"
     ]
    }
   ],
   "source": [
    "\n",
    "Jane = input(\"Jane, Do you declare even or odd? \")\n",
    "Jack = input(\"Jack, Do you declare even or odd? \")\n",
    "\n",
    "import random\n",
    "fing1 = random.choice(range(0,5))\n",
    "fing2 = random.choice(range(0,5))\n",
    "\n",
    "print(\"Jane played\", str(fing1), \"fingers\")\n",
    "print(\"Jack played\", str(fing2), \"fingers\")\n",
    "\n",
    "add = fing1 + fing2\n",
    "\n",
    "if add%2 == 0:\n",
    "    combination = \"even\"\n",
    "    print(\"Combination is even\")\n",
    "else:\n",
    "    combination = \"odd\"\n",
    "    print(\"Combination is odd\")\n",
    "\n",
    "if combination == Jane and combination == Jack:\n",
    "    print(\"It's a draw\")\n",
    "elif combination == Jane:\n",
    "    print(\"Jane wins\")\n",
    "elif combination == Jack:\n",
    "    print(\"Jack wins\")   \n",
    "else:\n",
    "    print('You both lose')\n"
   ]
  },
  {
   "cell_type": "markdown",
   "metadata": {},
   "source": [
    "# Project 4"
   ]
  },
  {
   "cell_type": "code",
   "execution_count": null,
   "metadata": {},
   "outputs": [],
   "source": [
    "distance = float(input(\"What is the distance travelled by the car? \"))\n",
    "time = float(input(\"For how long has the car travelled? \"))\n",
    "\n",
    "velocity = distance/time\n",
    "\n",
    "if velocity == (50/2):\n",
    "    print(\"The car goes 50 miles in 2 hours\")\n",
    "else:\n",
    "    print(\"Nope\")"
   ]
  },
  {
   "cell_type": "code",
   "execution_count": 1,
   "metadata": {},
   "outputs": [
    {
     "data": {
      "application/json": {
       "cell": {
        "!": "OSMagics",
        "HTML": "Other",
        "SVG": "Other",
        "bash": "Other",
        "capture": "ExecutionMagics",
        "cmd": "Other",
        "debug": "ExecutionMagics",
        "file": "Other",
        "html": "DisplayMagics",
        "javascript": "DisplayMagics",
        "js": "DisplayMagics",
        "latex": "DisplayMagics",
        "markdown": "DisplayMagics",
        "perl": "Other",
        "prun": "ExecutionMagics",
        "pypy": "Other",
        "python": "Other",
        "python2": "Other",
        "python3": "Other",
        "ruby": "Other",
        "script": "ScriptMagics",
        "sh": "Other",
        "svg": "DisplayMagics",
        "sx": "OSMagics",
        "system": "OSMagics",
        "time": "ExecutionMagics",
        "timeit": "ExecutionMagics",
        "writefile": "OSMagics"
       },
       "line": {
        "alias": "OSMagics",
        "alias_magic": "BasicMagics",
        "autoawait": "AsyncMagics",
        "autocall": "AutoMagics",
        "automagic": "AutoMagics",
        "autosave": "KernelMagics",
        "bookmark": "OSMagics",
        "cd": "OSMagics",
        "clear": "KernelMagics",
        "cls": "KernelMagics",
        "colors": "BasicMagics",
        "conda": "PackagingMagics",
        "config": "ConfigMagics",
        "connect_info": "KernelMagics",
        "copy": "Other",
        "ddir": "Other",
        "debug": "ExecutionMagics",
        "dhist": "OSMagics",
        "dirs": "OSMagics",
        "doctest_mode": "BasicMagics",
        "echo": "Other",
        "ed": "Other",
        "edit": "KernelMagics",
        "env": "OSMagics",
        "gui": "BasicMagics",
        "hist": "Other",
        "history": "HistoryMagics",
        "killbgscripts": "ScriptMagics",
        "ldir": "Other",
        "less": "KernelMagics",
        "load": "CodeMagics",
        "load_ext": "ExtensionMagics",
        "loadpy": "CodeMagics",
        "logoff": "LoggingMagics",
        "logon": "LoggingMagics",
        "logstart": "LoggingMagics",
        "logstate": "LoggingMagics",
        "logstop": "LoggingMagics",
        "ls": "Other",
        "lsmagic": "BasicMagics",
        "macro": "ExecutionMagics",
        "magic": "BasicMagics",
        "matplotlib": "PylabMagics",
        "mkdir": "Other",
        "more": "KernelMagics",
        "notebook": "BasicMagics",
        "page": "BasicMagics",
        "pastebin": "CodeMagics",
        "pdb": "ExecutionMagics",
        "pdef": "NamespaceMagics",
        "pdoc": "NamespaceMagics",
        "pfile": "NamespaceMagics",
        "pinfo": "NamespaceMagics",
        "pinfo2": "NamespaceMagics",
        "pip": "PackagingMagics",
        "popd": "OSMagics",
        "pprint": "BasicMagics",
        "precision": "BasicMagics",
        "prun": "ExecutionMagics",
        "psearch": "NamespaceMagics",
        "psource": "NamespaceMagics",
        "pushd": "OSMagics",
        "pwd": "OSMagics",
        "pycat": "OSMagics",
        "pylab": "PylabMagics",
        "qtconsole": "KernelMagics",
        "quickref": "BasicMagics",
        "recall": "HistoryMagics",
        "rehashx": "OSMagics",
        "reload_ext": "ExtensionMagics",
        "ren": "Other",
        "rep": "Other",
        "rerun": "HistoryMagics",
        "reset": "NamespaceMagics",
        "reset_selective": "NamespaceMagics",
        "rmdir": "Other",
        "run": "ExecutionMagics",
        "save": "CodeMagics",
        "sc": "OSMagics",
        "set_env": "OSMagics",
        "store": "StoreMagics",
        "sx": "OSMagics",
        "system": "OSMagics",
        "tb": "ExecutionMagics",
        "time": "ExecutionMagics",
        "timeit": "ExecutionMagics",
        "unalias": "OSMagics",
        "unload_ext": "ExtensionMagics",
        "who": "NamespaceMagics",
        "who_ls": "NamespaceMagics",
        "whos": "NamespaceMagics",
        "xdel": "NamespaceMagics",
        "xmode": "BasicMagics"
       }
      },
      "text/plain": [
       "Available line magics:\n",
       "%alias  %alias_magic  %autoawait  %autocall  %automagic  %autosave  %bookmark  %cd  %clear  %cls  %colors  %conda  %config  %connect_info  %copy  %ddir  %debug  %dhist  %dirs  %doctest_mode  %echo  %ed  %edit  %env  %gui  %hist  %history  %killbgscripts  %ldir  %less  %load  %load_ext  %loadpy  %logoff  %logon  %logstart  %logstate  %logstop  %ls  %lsmagic  %macro  %magic  %matplotlib  %mkdir  %more  %notebook  %page  %pastebin  %pdb  %pdef  %pdoc  %pfile  %pinfo  %pinfo2  %pip  %popd  %pprint  %precision  %prun  %psearch  %psource  %pushd  %pwd  %pycat  %pylab  %qtconsole  %quickref  %recall  %rehashx  %reload_ext  %ren  %rep  %rerun  %reset  %reset_selective  %rmdir  %run  %save  %sc  %set_env  %store  %sx  %system  %tb  %time  %timeit  %unalias  %unload_ext  %who  %who_ls  %whos  %xdel  %xmode\n",
       "\n",
       "Available cell magics:\n",
       "%%!  %%HTML  %%SVG  %%bash  %%capture  %%cmd  %%debug  %%file  %%html  %%javascript  %%js  %%latex  %%markdown  %%perl  %%prun  %%pypy  %%python  %%python2  %%python3  %%ruby  %%script  %%sh  %%svg  %%sx  %%system  %%time  %%timeit  %%writefile\n",
       "\n",
       "Automagic is ON, % prefix IS NOT needed for line magics."
      ]
     },
     "execution_count": 1,
     "metadata": {},
     "output_type": "execute_result"
    }
   ],
   "source": [
    "%lsmagic\n"
   ]
  },
  {
   "cell_type": "code",
   "execution_count": null,
   "metadata": {},
   "outputs": [],
   "source": []
  }
 ],
 "metadata": {
  "kernelspec": {
   "display_name": "Python 3",
   "language": "python",
   "name": "python3"
  },
  "language_info": {
   "codemirror_mode": {
    "name": "ipython",
    "version": 3
   },
   "file_extension": ".py",
   "mimetype": "text/x-python",
   "name": "python",
   "nbconvert_exporter": "python",
   "pygments_lexer": "ipython3",
   "version": "3.8.5"
  }
 },
 "nbformat": 4,
 "nbformat_minor": 4
}
