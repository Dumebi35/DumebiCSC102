{
 "cells": [
  {
   "cell_type": "markdown",
   "metadata": {},
   "source": [
    "# CLASS PROJECT 1"
   ]
  },
  {
   "cell_type": "code",
   "execution_count": 61,
   "metadata": {},
   "outputs": [
    {
     "name": "stdout",
     "output_type": "stream",
     "text": [
      "Please enter your name: Adams Ali\n",
      "Welcome Adams Ali\n",
      "Adams Ali is Present\n",
      "Adams Ali Your job is Delivering Items\n"
     ]
    }
   ],
   "source": [
    "import random\n",
    "\n",
    "class Employee():\n",
    "    Employees = [ \"Mary Evans\", \"Eyo Ishan\", \"Durojaiye Dare\", \n",
    "    \"Adams Ali\", \"Andrew Ugwu\", \"Stella Mankinde\", \"Jane Akibo\", \"Ago James\", \n",
    "    \"Michell Taiwo\", \"Abraham Jones\" , \"Nicole Anide\", \n",
    "    \"Kosi Korso\", \"Adele Martins\", \"Emmanuel Ojo\", \"Ajayi Fatima\"]\n",
    "    \n",
    "    Tasks = [ \"Loading\", \"Transporting\", \n",
    "    \"Reviewing Orders\", \"Customer Service\", \"Delivering Items\"]\n",
    "    \n",
    "    def __init__(self, name):\n",
    "        self.name = name\n",
    "        \n",
    "        \n",
    "    # check if person in employees list\n",
    "    def check_employee(self):\n",
    "        if self.name in self.Employees:\n",
    "            self.access = True\n",
    "            print(\"Welcome\", self.name)\n",
    "            \n",
    "    #take attendance\n",
    "    def take_attendance(self):\n",
    "        if self.name in self.Employees:\n",
    "            self.present = \"Present\"\n",
    "            print(self.name, \"is\", self.present)\n",
    "            \n",
    "    #assign tasks to people\n",
    "    def assign_task(self):\n",
    "        if self.name in self.Employees:\n",
    "            self.task = random.choice(self.Tasks)\n",
    "            print(self.name, 'Your job is', self.task)\n",
    "    \n",
    "    # to refuse access\n",
    "    def refuse_access(self):\n",
    "        if self.name not in self.Employees:\n",
    "            print(self.name, \"Sorry, you're not one of us\")\n",
    "\n",
    "#name = input(\"Please enter your name: \")\n",
    "#person = Employee(name))\n",
    "\n",
    "person = Employee(input(\"Please enter your name: \"))\n",
    "\n",
    "person.check_employee()\n",
    "person.take_attendance()\n",
    "person.assign_task()\n",
    "person.refuse_access()"
   ]
  },
  {
   "cell_type": "code",
   "execution_count": null,
   "metadata": {},
   "outputs": [],
   "source": []
  },
  {
   "cell_type": "markdown",
   "metadata": {},
   "source": [
    "# CLASS PROJECT 2"
   ]
  },
  {
   "cell_type": "code",
   "execution_count": 52,
   "metadata": {},
   "outputs": [
    {
     "name": "stdout",
     "output_type": "stream",
     "text": [
      "001 has a price of 5000\n"
     ]
    }
   ],
   "source": [
    "class delivery():\n",
    "    \n",
    "    def __init__(self, package_id, location, weight):\n",
    "        self.package_id = package_id\n",
    "        self.location = location\n",
    "        self.weight = int(weight)\n",
    "    \n",
    "    #for packages going to pau\n",
    "    def PAU(self):\n",
    "        if self.location.upper() == \"PAU\":\n",
    "            if self.weight >= 10:\n",
    "                self.price = 2000\n",
    "                print(self.package_id, \"has a price of\", str(self.price))\n",
    "            else:\n",
    "                self.price = 1500\n",
    "                print(self.package_id, \"has a price of\", str(self.price))\n",
    "    \n",
    "    #for packages going to Epe\n",
    "    def Epe(self):\n",
    "        if self.location.upper() == \"EPE\":\n",
    "            if self.weight >= 10:\n",
    "                self.price = 5000\n",
    "                print(self.package_id, \"has a price of\", str(self.price))\n",
    "            else:\n",
    "                self.price = 4000\n",
    "                print(self.package_id, \"has a price of\", str(self.price))\n",
    "\n",
    "#define an object and call the class methods\n",
    "Dumebi = delivery('001', 'epe', '20')\n",
    "Dumebi.PAU()\n",
    "Dumebi.Epe()"
   ]
  },
  {
   "cell_type": "code",
   "execution_count": null,
   "metadata": {},
   "outputs": [],
   "source": []
  }
 ],
 "metadata": {
  "kernelspec": {
   "display_name": "Python 3",
   "language": "python",
   "name": "python3"
  },
  "language_info": {
   "codemirror_mode": {
    "name": "ipython",
    "version": 3
   },
   "file_extension": ".py",
   "mimetype": "text/x-python",
   "name": "python",
   "nbconvert_exporter": "python",
   "pygments_lexer": "ipython3",
   "version": "3.8.5"
  }
 },
 "nbformat": 4,
 "nbformat_minor": 4
}
