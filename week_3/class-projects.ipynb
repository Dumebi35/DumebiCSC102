{
 "cells": [
  {
   "cell_type": "markdown",
   "metadata": {},
   "source": [
    "## Name : Dumebi Duru \n",
    "## Mat No: 21120612455 \n",
    "## E-mail: dumebi.duru@pau.edu.ng"
   ]
  },
  {
   "cell_type": "markdown",
   "metadata": {},
   "source": [
    "## PROJECT 1"
   ]
  },
  {
   "cell_type": "markdown",
   "metadata": {},
   "source": [
    "![project 1 pic](images/Picture1.png)"
   ]
  },
  {
   "cell_type": "markdown",
   "metadata": {},
   "source": [
    "BEGIN\n",
    "INPUT num\n",
    "LET diff = num - 17\n",
    "IF num > 17 THEN\n",
    "    PRINT 2 * diff\n",
    "ELSE\n",
    "    LET abs_val = -1 * diff\n",
    "    PRINT abs_val\n",
    "END IF\n",
    "END"
   ]
  },
  {
   "cell_type": "code",
   "execution_count": 19,
   "metadata": {},
   "outputs": [
    {
     "name": "stdout",
     "output_type": "stream",
     "text": [
      "What number do you want please? 4\n",
      "13.0\n"
     ]
    }
   ],
   "source": [
    "# program to get difference of a number and 17 and perform operations on the difference\n",
    "num = float(input(\"What number do you want please? \"))\n",
    "diff = num - 17\n",
    "if num > 17:\n",
    "    print (2* diff)\n",
    "else:\n",
    "    abs_val = abs(diff)\n",
    "    print(abs_val)"
   ]
  },
  {
   "cell_type": "markdown",
   "metadata": {},
   "source": [
    "## PROJECT 2"
   ]
  },
  {
   "cell_type": "markdown",
   "metadata": {},
   "source": [
    "![project 2 pic](images/Picture2.png)"
   ]
  },
  {
   "cell_type": "markdown",
   "metadata": {},
   "source": [
    "BEGIN\n",
    "INPUT num1\n",
    "INPUT num2\n",
    "INPUT num3\n",
    "IF num1 EQUALS num2 and num1 EQUALS num3 THEN \n",
    "    LET add = 3 * num1\n",
    "    PRINT add\n",
    "ELSE \n",
    "    LET add = num1 + num2 + num3\n",
    "    PRINT add\n",
    "END IF\n",
    "END"
   ]
  },
  {
   "cell_type": "code",
   "execution_count": 9,
   "metadata": {},
   "outputs": [
    {
     "name": "stdout",
     "output_type": "stream",
     "text": [
      "What is the 1st number? 2\n",
      "What is the 2nd number? 3\n",
      "What is the 3rd number? 2\n",
      "7\n"
     ]
    }
   ],
   "source": [
    "# program to find the sum of 3 numbers\n",
    "# get the 3 numbers\n",
    "num1 = float(input(\"What is the 1st number? \"))\n",
    "num2 = float(input(\"What is the 2nd number? \"))\n",
    "num3 = float(input(\"What is the 3rd number? \"))\n",
    "\n",
    "if num1 == num2 and num1 == num3:\n",
    "    add = 3 * num1\n",
    "    print(add)\n",
    "else:\n",
    "    add = num1 + num2 + num3\n",
    "    print(add)"
   ]
  },
  {
   "cell_type": "markdown",
   "metadata": {},
   "source": [
    "## PROJECT 3"
   ]
  },
  {
   "cell_type": "markdown",
   "metadata": {},
   "source": [
    "![project 3 pic](images/Picture3.png)"
   ]
  },
  {
   "cell_type": "markdown",
   "metadata": {},
   "source": [
    "BEGIN\n",
    "INPUT num1\n",
    "INPUT num2\n",
    "LET add = num1 + num2\n",
    "IF num1 > num2 THEN\n",
    "    LET diff = num1 - num2\n",
    "ELSE \n",
    "    LET diff = num2 - num1\n",
    "END IF\n",
    "IF num1 EQUALS num2 OR add EQUALS 5 OR diff EQUALS 5 THEN\n",
    "    PRINT TRUE\n",
    "ELSE\n",
    "    PRINT FALSE\n",
    "END IF\n",
    "END"
   ]
  },
  {
   "cell_type": "code",
   "execution_count": 17,
   "metadata": {},
   "outputs": [
    {
     "name": "stdout",
     "output_type": "stream",
     "text": [
      "What is the 1st number? 7\n",
      "What is the 2nd number? 2\n",
      "True\n"
     ]
    }
   ],
   "source": [
    "# program to confirm values of numbers, their sum and their difference\n",
    "num1 = float(input(\"What is the 1st number? \"))\n",
    "num2 = float(input(\"What is the 2nd number? \"))\n",
    "# get the sum and difference of the numbers\n",
    "add = num1 + num2\n",
    "if num1 > num2:\n",
    "    diff = num1 - num2\n",
    "else: \n",
    "    diff = num2 - num1\n",
    "\n",
    "if num1 == num2 or add == 5 or diff == 5:\n",
    "    print(\"True\") \n",
    "else:\n",
    "    print(\"False\") \n"
   ]
  },
  {
   "cell_type": "markdown",
   "metadata": {},
   "source": [
    "## PROJECT 4"
   ]
  },
  {
   "cell_type": "markdown",
   "metadata": {},
   "source": [
    "![project 4 pic](images/Picture4.png)"
   ]
  },
  {
   "cell_type": "markdown",
   "metadata": {},
   "source": [
    "BEGIN\n",
    "INPUT num1\n",
    "INPUT num2\n",
    "INPUT num3\n",
    "FIND the biggest number\n",
    "FIND the middle number\n",
    "FIND the smallest number\n",
    "LET order = ARRANGE smallest number, middle number, biggest number\n",
    "PRINT order\n",
    "END"
   ]
  },
  {
   "cell_type": "code",
   "execution_count": 20,
   "metadata": {},
   "outputs": [
    {
     "name": "stdout",
     "output_type": "stream",
     "text": [
      "What is the 1st number? 3\n",
      "What is the 2nd number? 2\n",
      "What is the 3rd number? 7\n",
      "(2.0, 3.0, 7.0)\n"
     ]
    }
   ],
   "source": [
    "# program to arrange numbers in ascending order\n",
    "num1 = float(input(\"What is the 1st number? \"))\n",
    "num2 = float(input(\"What is the 2nd number? \"))\n",
    "num3 = float(input(\"What is the 3rd number? \"))\n",
    "\n",
    "maximum = max(num1, num2,num3)\n",
    "minimum = min(num1,num2,num3)\n",
    "middle = (num1 + num2 + num3) - maximum - minimum\n",
    "\n",
    "order = (minimum, middle, maximum)\n",
    "print(order)"
   ]
  },
  {
   "cell_type": "markdown",
   "metadata": {},
   "source": [
    "## PROJECT 5"
   ]
  },
  {
   "cell_type": "markdown",
   "metadata": {},
   "source": [
    "![project 5 pic](images/Picture5.png)"
   ]
  },
  {
   "cell_type": "code",
   "execution_count": null,
   "metadata": {},
   "outputs": [],
   "source": [
    "BEGIN\n"
   ]
  },
  {
   "cell_type": "code",
   "execution_count": 34,
   "metadata": {},
   "outputs": [
    {
     "name": "stdout",
     "output_type": "stream",
     "text": [
      "What is the number? 3\n",
      "[2.0]\n",
      "[2.0, 1.0]\n",
      "[2.0, 1.0, 0.0]\n"
     ]
    }
   ],
   "source": [
    "num = float(input(\"What is the number? \"))\n"
   ]
  },
  {
   "cell_type": "code",
   "execution_count": null,
   "metadata": {},
   "outputs": [],
   "source": []
  }
 ],
 "metadata": {
  "kernelspec": {
   "display_name": "Python 3",
   "language": "python",
   "name": "python3"
  },
  "language_info": {
   "codemirror_mode": {
    "name": "ipython",
    "version": 3
   },
   "file_extension": ".py",
   "mimetype": "text/x-python",
   "name": "python",
   "nbconvert_exporter": "python",
   "pygments_lexer": "ipython3",
   "version": "3.8.5"
  }
 },
 "nbformat": 4,
 "nbformat_minor": 4
}
