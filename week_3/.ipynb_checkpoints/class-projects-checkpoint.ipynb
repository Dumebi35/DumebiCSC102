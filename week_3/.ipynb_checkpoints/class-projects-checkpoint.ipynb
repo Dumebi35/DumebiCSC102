{
 "cells": [
  {
   "cell_type": "markdown",
   "metadata": {},
   "source": [
    "## Name : Dumebi Duru \n",
    "## Mat No: 21120612455 \n",
    "## E-mail: dumebi.duru@pau.edu.ng"
   ]
  },
  {
   "cell_type": "markdown",
   "metadata": {},
   "source": [
    "## PROJECT 1"
   ]
  },
  {
   "cell_type": "markdown",
   "metadata": {},
   "source": [
    "![project 1 pic](images/Picture1.png)"
   ]
  },
  {
   "cell_type": "markdown",
   "metadata": {},
   "source": [
    "<br>BEGIN\n",
    "<br>INPUT num\n",
    "<br>LET diff = num - 17\n",
    "<br>IF num > 17 THEN\n",
    "   * PRINT 2 * diff\n",
    "   \n",
    "<br>ELSE\n",
    "   * LET abs_val = -1 * diff\n",
    "   * PRINT abs_val\n",
    "<br>END IF\n",
    "<br>END"
   ]
  },
  {
   "cell_type": "code",
   "execution_count": 19,
   "metadata": {},
   "outputs": [
    {
     "name": "stdout",
     "output_type": "stream",
     "text": [
      "What number do you want please? 4\n",
      "13.0\n"
     ]
    }
   ],
   "source": [
    "# program to get difference of a number and 17 and perform operations on the difference\n",
    "num = float(input(\"What number do you want please? \"))\n",
    "diff = num - 17\n",
    "if num > 17:\n",
    "    print (2* diff)\n",
    "else:\n",
    "    abs_val = abs(diff)\n",
    "    print(abs_val)"
   ]
  },
  {
   "cell_type": "markdown",
   "metadata": {},
   "source": [
    "## PROJECT 2"
   ]
  },
  {
   "cell_type": "markdown",
   "metadata": {},
   "source": [
    "![project 2 pic](images/Picture2.png)"
   ]
  },
  {
   "cell_type": "markdown",
   "metadata": {},
   "source": [
    "<br>BEGIN\n",
    "<br>INPUT num1\n",
    "<br>INPUT num2\n",
    "<br>INPUT num3\n",
    "<br>IF num1 EQUALS num2 and num1 EQUALS num3 THEN \n",
    "   * LET add = 3 * num1\n",
    "   * PRINT add\n",
    "   \n",
    "<br>ELSE \n",
    "   * LET add = num1 + num2 + num3\n",
    "   * PRINT add\n",
    "   \n",
    "<br>END IF\n",
    "<br>END"
   ]
  },
  {
   "cell_type": "code",
   "execution_count": 9,
   "metadata": {},
   "outputs": [
    {
     "name": "stdout",
     "output_type": "stream",
     "text": [
      "What is the 1st number? 2\n",
      "What is the 2nd number? 3\n",
      "What is the 3rd number? 2\n",
      "7\n"
     ]
    }
   ],
   "source": [
    "# program to find the sum of 3 numbers\n",
    "# get the 3 numbers\n",
    "num1 = float(input(\"What is the 1st number? \"))\n",
    "num2 = float(input(\"What is the 2nd number? \"))\n",
    "num3 = float(input(\"What is the 3rd number? \"))\n",
    "\n",
    "if num1 == num2 and num1 == num3:\n",
    "    add = 3 * num1\n",
    "    print(add)\n",
    "else:\n",
    "    add = num1 + num2 + num3\n",
    "    print(add)"
   ]
  },
  {
   "cell_type": "markdown",
   "metadata": {},
   "source": [
    "## PROJECT 3"
   ]
  },
  {
   "cell_type": "markdown",
   "metadata": {},
   "source": [
    "![project 3 pic](images/Picture3.png)"
   ]
  },
  {
   "cell_type": "markdown",
   "metadata": {},
   "source": [
    "<br>BEGIN\n",
    "<br>INPUT num1\n",
    "<br>INPUT num2\n",
    "<br>LET add = num1 + num2\n",
    "<br>IF num1 > num2 THEN\n",
    "   * LET diff = num1 - num2\n",
    "   \n",
    "<br>ELSE \n",
    "   * LET diff = num2 - num1\n",
    "   \n",
    "<br>END IF\n",
    "<br>IF num1 EQUALS num2 OR add EQUALS 5 OR diff EQUALS 5 THEN\n",
    "   * PRINT TRUE\n",
    "   \n",
    "<br>ELSE\n",
    "   * PRINT FALSE\n",
    "   \n",
    "<br>END IF\n",
    "<br>END"
   ]
  },
  {
   "cell_type": "code",
   "execution_count": 17,
   "metadata": {},
   "outputs": [
    {
     "name": "stdout",
     "output_type": "stream",
     "text": [
      "What is the 1st number? 7\n",
      "What is the 2nd number? 2\n",
      "True\n"
     ]
    }
   ],
   "source": [
    "# program to confirm values of numbers, their sum and their difference\n",
    "num1 = float(input(\"What is the 1st number? \"))\n",
    "num2 = float(input(\"What is the 2nd number? \"))\n",
    "# get the sum and difference of the numbers\n",
    "add = num1 + num2\n",
    "if num1 > num2:\n",
    "    diff = num1 - num2\n",
    "else: \n",
    "    diff = num2 - num1\n",
    "\n",
    "if num1 == num2 or add == 5 or diff == 5:\n",
    "    print(\"True\") \n",
    "else:\n",
    "    print(\"False\") \n"
   ]
  },
  {
   "cell_type": "markdown",
   "metadata": {},
   "source": [
    "## PROJECT 4"
   ]
  },
  {
   "cell_type": "markdown",
   "metadata": {},
   "source": [
    "![project 4 pic](images/Picture4.png)"
   ]
  },
  {
   "cell_type": "markdown",
   "metadata": {},
   "source": [
    "<br>BEGIN\n",
    "<br>INPUT num1\n",
    "<br>INPUT num2\n",
    "<br>INPUT num3\n",
    "<br>FIND the biggest number\n",
    "<br>FIND the middle number\n",
    "<br>FIND the smallest number\n",
    "<br>LET order = ARRANGE smallest number, middle number, biggest number\n",
    "<br>PRINT order\n",
    "<br>END"
   ]
  },
  {
   "cell_type": "code",
   "execution_count": 20,
   "metadata": {},
   "outputs": [
    {
     "name": "stdout",
     "output_type": "stream",
     "text": [
      "What is the 1st number? 3\n",
      "What is the 2nd number? 2\n",
      "What is the 3rd number? 7\n",
      "(2.0, 3.0, 7.0)\n"
     ]
    }
   ],
   "source": [
    "# program to arrange numbers in ascending order\n",
    "num1 = float(input(\"What is the 1st number? \"))\n",
    "num2 = float(input(\"What is the 2nd number? \"))\n",
    "num3 = float(input(\"What is the 3rd number? \"))\n",
    "\n",
    "maximum = max(num1, num2,num3)\n",
    "minimum = min(num1,num2,num3)\n",
    "middle = (num1 + num2 + num3) - maximum - minimum\n",
    "\n",
    "order = (minimum, middle, maximum)\n",
    "print(order)"
   ]
  },
  {
   "cell_type": "markdown",
   "metadata": {},
   "source": [
    "## PROJECT 5"
   ]
  },
  {
   "cell_type": "markdown",
   "metadata": {},
   "source": [
    "![project 5 pic](images/Picture5.png)"
   ]
  },
  {
   "cell_type": "markdown",
   "metadata": {},
   "source": [
    "<br>BEGIN\n",
    "<br>INPUT num\n",
    "<br>SET N = 0\n",
    "<br>LET num = num-1\n",
    "<br>SET numbers = list starting with num\n",
    "<br>WHILE num > 0\n",
    "   * num = num-1\n",
    "    * IF last element in numbers IS NOT EQUAL to 1:\n",
    "        * ADD num^3 to the list\n",
    "    * ELSE\n",
    "        * PRINT numbers\n",
    "    * END IF\n",
    "   * END WHILE\n",
    "<br>FOR i in numbers\n",
    "   * N = N + i\n",
    "<br>END FOR\n",
    "<br>PRINT N\n",
    "<br> END\n"
   ]
  },
  {
   "cell_type": "code",
   "execution_count": 76,
   "metadata": {},
   "outputs": [
    {
     "name": "stdout",
     "output_type": "stream",
     "text": [
      "Enter a number: 5\n",
      "The numbers being added: [64, 27, 8, 1]\n",
      "The summation is 100\n"
     ]
    }
   ],
   "source": [
    "#program that adds the cubes of numbers less than the input\n",
    "num = int(input(\"Enter a number: \"))\n",
    "def cubed(num):\n",
    "    N =0\n",
    "    num = num - 1\n",
    "    #create a list starting with the cube of the 1st number less than the input\n",
    "    numbers = [num**3]\n",
    "    while num > 0:\n",
    "        num -=1\n",
    "        #when the last element is not 1, keep adding cubes of numbers less than the input to list\n",
    "        if  numbers[-1] != 1:\n",
    "            numbers.append(num**3)\n",
    "            \n",
    "        else:\n",
    "            print(\"The numbers being added:\",numbers)\n",
    "    #add each list element to N\n",
    "    for i in numbers:\n",
    "        N += i\n",
    "    print (\"The summation is\", N)\n",
    "cubed(num)"
   ]
  },
  {
   "cell_type": "code",
   "execution_count": null,
   "metadata": {},
   "outputs": [],
   "source": []
  }
 ],
 "metadata": {
  "kernelspec": {
   "display_name": "Python 3",
   "language": "python",
   "name": "python3"
  },
  "language_info": {
   "codemirror_mode": {
    "name": "ipython",
    "version": 3
   },
   "file_extension": ".py",
   "mimetype": "text/x-python",
   "name": "python",
   "nbconvert_exporter": "python",
   "pygments_lexer": "ipython3",
   "version": "3.8.5"
  }
 },
 "nbformat": 4,
 "nbformat_minor": 4
}
