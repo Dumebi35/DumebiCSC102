{
 "cells": [
  {
   "cell_type": "markdown",
   "metadata": {},
   "source": [
    "# Dumebi Valerie Duru"
   ]
  },
  {
   "cell_type": "markdown",
   "metadata": {},
   "source": [
    "## Matric No: 21120612455"
   ]
  },
  {
   "cell_type": "code",
   "execution_count": null,
   "metadata": {},
   "outputs": [],
   "source": []
  },
  {
   "cell_type": "markdown",
   "metadata": {},
   "source": [
    "# Question I"
   ]
  },
  {
   "cell_type": "code",
   "execution_count": 16,
   "metadata": {},
   "outputs": [],
   "source": [
    "'''from openpyxl import Workbook, load_workbook\n",
    "\n",
    "wb = Workbook()\n",
    "ws = wb.active\n",
    "ws.title = \"Cafeteria\"\n",
    "\n",
    "ws.append([\"Girls\"])\n",
    "Menu = [\"Poundo Yam/Edinkaiko Soup\", \"Fried Rice & Chicken\", \"Amala & Ewedu Soup\", \"Eba & Egusi Soup\", \"White Rice & Stew\"]\n",
    "Price = ['5500', '6000', '4500', '4000', '4500']\n",
    "\n",
    "wb.save(\"pau_cafeteria.xlsx\")'''"
   ]
  },
  {
   "cell_type": "markdown",
   "metadata": {},
   "source": [
    "## Pseudocode"
   ]
  },
  {
   "cell_type": "code",
   "execution_count": null,
   "metadata": {},
   "outputs": [],
   "source": [
    "BEGIN\n",
    "SET Menu as list of food items\n",
    "SET Price as list of food prices\n",
    "INPUT name\n",
    "PRINT Menu AND Price\n",
    "INPUT order\n",
    "INPUT quantity\n",
    "IF order in Menu THEN\n",
    "    charge = price * quantity\n",
    "    PRINT charge\n",
    "    IF charge < 10000: \n",
    "                total = charge - (0.1 * charge) \n",
    "    ELIF charge> 10000 and charge < 15000:\n",
    "                total = charge - (0.15 * charge)\n",
    "    ELSE:\n",
    "                total = charge - (0.25 * charge)\n",
    "            print(\"Total is \", str(charge), \"Discount of\", str(total))\n",
    "ELSE\n",
    "    PRINT (\"We dont't have that food\")\n",
    "END"
   ]
  },
  {
   "cell_type": "code",
   "execution_count": 130,
   "metadata": {},
   "outputs": [
    {
     "name": "stdout",
     "output_type": "stream",
     "text": [
      "Please enter your name: e\n",
      "This is our menu:  {'Poundo Yam/Edinkaiko Soup': 5500, 'Fried Rice & Chicken': 6000, 'Amala & Ewedu Soup': 4500, 'Eba & Egusi Soup': 4000, 'White Rice & Stew': 4500}\n",
      "Please enter a food item: Poundo Yam/Edinkaiko Soup\n",
      "Please enter food quantity: 3\n",
      "Total is  16500 Discount of 12375.0\n"
     ]
    }
   ],
   "source": [
    "Menu = [\"Poundo Yam/Edinkaiko Soup\", \"Fried Rice & Chicken\", \"Amala & Ewedu Soup\", \"Eba & Egusi Soup\", \"White Rice & Stew\"]\n",
    "Price = [5500, 6000, 4500, 4000, 4500]\n",
    "\n",
    "#get customer name\n",
    "name = input(\"Please enter your name: \")\n",
    "\n",
    "def display_menu():\n",
    "    #get info from customer\n",
    "    \n",
    "    # print menu\n",
    "\n",
    "    d = dict(zip(Menu, Price))\n",
    "    print(\"This is our menu: \", d)\n",
    "    #menu = input(\"Please enter a food item: \")\n",
    "\n",
    "    def get_charge():\n",
    "        order = input(\"Please enter a food item: \")\n",
    "        quantity = int(input(\"Please enter food quantity: \"))\n",
    "        if order in d:\n",
    "            price = d[order] \n",
    "            charge = price * quantity\n",
    "            #print(name, \"Your total is\", str(charge))\n",
    "\n",
    "            \n",
    "            if charge < 10000: \n",
    "                total = charge - (0.1 * charge) \n",
    "            elif charge> 10000 and charge < 15000:\n",
    "                total = charge - (0.15 * charge)\n",
    "            else:\n",
    "                total = charge - (0.25 * charge)\n",
    "            print(\"Total is \", str(charge), \"Discount of\", str(total))\n",
    "            #print(d.values())\n",
    "        else:\n",
    "            print(\"Sorry, we don't have that\")\n",
    "    get_charge()\n",
    "    \n",
    "display_menu()"
   ]
  },
  {
   "cell_type": "raw",
   "metadata": {},
   "source": []
  },
  {
   "cell_type": "markdown",
   "metadata": {},
   "source": [
    "# Question II"
   ]
  },
  {
   "cell_type": "code",
   "execution_count": 95,
   "metadata": {},
   "outputs": [
    {
     "name": "stdout",
     "output_type": "stream",
     "text": [
      "[44.5, 67.4, 23.8, 71.1, 50.3, 63.3]\n",
      "[2, 4, 1, 5, 3, 4]\n",
      "6\n"
     ]
    },
    {
     "ename": "PermissionError",
     "evalue": "[Errno 13] Permission denied: 'question_ii.xlsx'",
     "output_type": "error",
     "traceback": [
      "\u001b[1;31m---------------------------------------------------------------------------\u001b[0m",
      "\u001b[1;31mPermissionError\u001b[0m                           Traceback (most recent call last)",
      "\u001b[1;32m<ipython-input-95-f51d59f78c7c>\u001b[0m in \u001b[0;36m<module>\u001b[1;34m\u001b[0m\n\u001b[0;32m     54\u001b[0m     \u001b[0mws\u001b[0m\u001b[1;33m.\u001b[0m\u001b[0mappend\u001b[0m\u001b[1;33m(\u001b[0m\u001b[0mi\u001b[0m\u001b[1;33m)\u001b[0m\u001b[1;33m\u001b[0m\u001b[1;33m\u001b[0m\u001b[0m\n\u001b[0;32m     55\u001b[0m \u001b[1;33m\u001b[0m\u001b[0m\n\u001b[1;32m---> 56\u001b[1;33m \u001b[0mwb\u001b[0m\u001b[1;33m.\u001b[0m\u001b[0msave\u001b[0m\u001b[1;33m(\u001b[0m\u001b[1;34m\"question_ii.xlsx\"\u001b[0m\u001b[1;33m)\u001b[0m\u001b[1;33m\u001b[0m\u001b[1;33m\u001b[0m\u001b[0m\n\u001b[0m",
      "\u001b[1;32m~\\anaconda3\\lib\\site-packages\\openpyxl\\workbook\\workbook.py\u001b[0m in \u001b[0;36msave\u001b[1;34m(self, filename)\u001b[0m\n\u001b[0;32m    390\u001b[0m         \u001b[1;32mif\u001b[0m \u001b[0mself\u001b[0m\u001b[1;33m.\u001b[0m\u001b[0mwrite_only\u001b[0m \u001b[1;32mand\u001b[0m \u001b[1;32mnot\u001b[0m \u001b[0mself\u001b[0m\u001b[1;33m.\u001b[0m\u001b[0mworksheets\u001b[0m\u001b[1;33m:\u001b[0m\u001b[1;33m\u001b[0m\u001b[1;33m\u001b[0m\u001b[0m\n\u001b[0;32m    391\u001b[0m             \u001b[0mself\u001b[0m\u001b[1;33m.\u001b[0m\u001b[0mcreate_sheet\u001b[0m\u001b[1;33m(\u001b[0m\u001b[1;33m)\u001b[0m\u001b[1;33m\u001b[0m\u001b[1;33m\u001b[0m\u001b[0m\n\u001b[1;32m--> 392\u001b[1;33m         \u001b[0msave_workbook\u001b[0m\u001b[1;33m(\u001b[0m\u001b[0mself\u001b[0m\u001b[1;33m,\u001b[0m \u001b[0mfilename\u001b[0m\u001b[1;33m)\u001b[0m\u001b[1;33m\u001b[0m\u001b[1;33m\u001b[0m\u001b[0m\n\u001b[0m\u001b[0;32m    393\u001b[0m \u001b[1;33m\u001b[0m\u001b[0m\n\u001b[0;32m    394\u001b[0m \u001b[1;33m\u001b[0m\u001b[0m\n",
      "\u001b[1;32m~\\anaconda3\\lib\\site-packages\\openpyxl\\writer\\excel.py\u001b[0m in \u001b[0;36msave_workbook\u001b[1;34m(workbook, filename)\u001b[0m\n\u001b[0;32m    289\u001b[0m \u001b[1;33m\u001b[0m\u001b[0m\n\u001b[0;32m    290\u001b[0m     \"\"\"\n\u001b[1;32m--> 291\u001b[1;33m     \u001b[0marchive\u001b[0m \u001b[1;33m=\u001b[0m \u001b[0mZipFile\u001b[0m\u001b[1;33m(\u001b[0m\u001b[0mfilename\u001b[0m\u001b[1;33m,\u001b[0m \u001b[1;34m'w'\u001b[0m\u001b[1;33m,\u001b[0m \u001b[0mZIP_DEFLATED\u001b[0m\u001b[1;33m,\u001b[0m \u001b[0mallowZip64\u001b[0m\u001b[1;33m=\u001b[0m\u001b[1;32mTrue\u001b[0m\u001b[1;33m)\u001b[0m\u001b[1;33m\u001b[0m\u001b[1;33m\u001b[0m\u001b[0m\n\u001b[0m\u001b[0;32m    292\u001b[0m     \u001b[0mwriter\u001b[0m \u001b[1;33m=\u001b[0m \u001b[0mExcelWriter\u001b[0m\u001b[1;33m(\u001b[0m\u001b[0mworkbook\u001b[0m\u001b[1;33m,\u001b[0m \u001b[0marchive\u001b[0m\u001b[1;33m)\u001b[0m\u001b[1;33m\u001b[0m\u001b[1;33m\u001b[0m\u001b[0m\n\u001b[0;32m    293\u001b[0m     \u001b[0mwriter\u001b[0m\u001b[1;33m.\u001b[0m\u001b[0msave\u001b[0m\u001b[1;33m(\u001b[0m\u001b[1;33m)\u001b[0m\u001b[1;33m\u001b[0m\u001b[1;33m\u001b[0m\u001b[0m\n",
      "\u001b[1;32m~\\anaconda3\\lib\\zipfile.py\u001b[0m in \u001b[0;36m__init__\u001b[1;34m(self, file, mode, compression, allowZip64, compresslevel, strict_timestamps)\u001b[0m\n\u001b[0;32m   1249\u001b[0m             \u001b[1;32mwhile\u001b[0m \u001b[1;32mTrue\u001b[0m\u001b[1;33m:\u001b[0m\u001b[1;33m\u001b[0m\u001b[1;33m\u001b[0m\u001b[0m\n\u001b[0;32m   1250\u001b[0m                 \u001b[1;32mtry\u001b[0m\u001b[1;33m:\u001b[0m\u001b[1;33m\u001b[0m\u001b[1;33m\u001b[0m\u001b[0m\n\u001b[1;32m-> 1251\u001b[1;33m                     \u001b[0mself\u001b[0m\u001b[1;33m.\u001b[0m\u001b[0mfp\u001b[0m \u001b[1;33m=\u001b[0m \u001b[0mio\u001b[0m\u001b[1;33m.\u001b[0m\u001b[0mopen\u001b[0m\u001b[1;33m(\u001b[0m\u001b[0mfile\u001b[0m\u001b[1;33m,\u001b[0m \u001b[0mfilemode\u001b[0m\u001b[1;33m)\u001b[0m\u001b[1;33m\u001b[0m\u001b[1;33m\u001b[0m\u001b[0m\n\u001b[0m\u001b[0;32m   1252\u001b[0m                 \u001b[1;32mexcept\u001b[0m \u001b[0mOSError\u001b[0m\u001b[1;33m:\u001b[0m\u001b[1;33m\u001b[0m\u001b[1;33m\u001b[0m\u001b[0m\n\u001b[0;32m   1253\u001b[0m                     \u001b[1;32mif\u001b[0m \u001b[0mfilemode\u001b[0m \u001b[1;32min\u001b[0m \u001b[0mmodeDict\u001b[0m\u001b[1;33m:\u001b[0m\u001b[1;33m\u001b[0m\u001b[1;33m\u001b[0m\u001b[0m\n",
      "\u001b[1;31mPermissionError\u001b[0m: [Errno 13] Permission denied: 'question_ii.xlsx'"
     ]
    }
   ],
   "source": [
    "from openpyxl import Workbook, load_workbook\n",
    "\n",
    "wb = Workbook()\n",
    "ws = wb.active\n",
    "ws.title = \"Boston Consulting Group EMIS\"\n",
    "\n",
    "ws.append([\"Boston Consulting Group EMIS\"])\n",
    "column = [\"Employee Name\", \"Years\", 'Assessment Records', 'Points', 'Reward']\n",
    "\n",
    "luis = [\"Alegbe Luis\", 5, 44.5]\n",
    "mabuta = [\"Anna Mabuta\", 10, 67.4]\n",
    "kafi = [\"Karim Kafi\", 15, 23.8]\n",
    "moses = [\"Esther Moses\", 8, 71.1]\n",
    "longe = [\"Jonah Longe\", 4, 50.3]\n",
    "fagbemi = [\"Coins Fagbemi\", 20, 63.3]\n",
    "\n",
    "#people = [luis, mabuta, kafi, moses, longe, fagbemi]\n",
    "\n",
    "points = []\n",
    "#print(ws['C2'].values)\n",
    "\n",
    "\n",
    "stuff = [luis[2], mabuta[2], kafi[2], moses[2], longe[2], fagbemi[2]]\n",
    "print(stuff)\n",
    "\n",
    "for i in stuff:\n",
    "    if i < 40:\n",
    "        point = 1\n",
    "    elif i>39 and i<50:\n",
    "        point = 2\n",
    "    elif i>49 and i<60:\n",
    "        point = 3\n",
    "    elif i>59 and i<70:\n",
    "        point = 4\n",
    "    else:\n",
    "        point = 5\n",
    "    points.append(point)\n",
    "print(points)\n",
    "\n",
    "luis.append(points[0]) \n",
    "mabuta.append(points[1])\n",
    "kafi.append(points[2])\n",
    "moses.append(points[3])\n",
    "longe.append(points[4])\n",
    "fagbemi.append(points[5])\n",
    "#for i in points\n",
    "#people.append(points)\n",
    "\n",
    "number = len(people)\n",
    "\n",
    "ws.append(column)\n",
    "people = [luis, mabuta, kafi, moses, longe, fagbemi]\n",
    "for i in people:\n",
    "    ws.append(i)\n",
    "\n",
    "wb.save(\"question_ii.xlsx\")"
   ]
  },
  {
   "cell_type": "code",
   "execution_count": null,
   "metadata": {},
   "outputs": [],
   "source": []
  },
  {
   "cell_type": "code",
   "execution_count": null,
   "metadata": {},
   "outputs": [],
   "source": []
  },
  {
   "cell_type": "code",
   "execution_count": null,
   "metadata": {},
   "outputs": [],
   "source": []
  }
 ],
 "metadata": {
  "kernelspec": {
   "display_name": "Python 3",
   "language": "python",
   "name": "python3"
  },
  "language_info": {
   "codemirror_mode": {
    "name": "ipython",
    "version": 3
   },
   "file_extension": ".py",
   "mimetype": "text/x-python",
   "name": "python",
   "nbconvert_exporter": "python",
   "pygments_lexer": "ipython3",
   "version": "3.8.5"
  }
 },
 "nbformat": 4,
 "nbformat_minor": 4
}
