{
 "cells": [
  {
   "cell_type": "code",
   "execution_count": 1,
   "metadata": {},
   "outputs": [],
   "source": [
    "from openpyxl import Workbook, load_workbook\n",
    "\n",
    "wb = Workbook()\n",
    "\n",
    "ws = wb.active\n",
    "ws.title = \"Students\"\n",
    "column = ['Name', 'Age', 'Height', 'Scores']\n",
    "\n",
    "#list for boys\n",
    "Charles = ['Charles', 15, 5.7, 85]\n",
    "Jude = ['Jude', 16, 5.9, 74]\n",
    "James = ['James', 16, 5.8, 87]\n",
    "Kelvin = ['Kelvin', 17, 6.1, 75]\n",
    "Prosper = ['Prosper', 14, 5.9, 68]\n",
    "\n",
    "Boys = [Charles, Jude, James, Kelvin, Prosper]\n",
    "\n",
    "#list for girls\n",
    "Ann = ['Ann', 14, 5.5, 80]\n",
    "Jane = ['Jane', 16, 6.0, 85]\n",
    "Joan = ['Joan', 14, 5.4, 70]\n",
    "Clare = ['Clare', 17, 5.9, 60]\n",
    "Elizabeth = ['Elizabeth', 16, 5.6, 76]\n",
    "\n",
    "Girls = [Ann, Jane, Joan, Clare, Elizabeth]\n",
    "\n",
    "\n",
    "#edit excel file\n",
    "ws.append(column)\n",
    "ws. append(['BOYS'])\n",
    "for b in Boys:\n",
    "    ws.append(b)\n",
    "ws. append(['GIRLS'])\n",
    "for g in Girls:\n",
    "    ws.append(g)\n",
    "    \n",
    "    \n",
    "#save excel file    \n",
    "wb.save('week_4_project_1_excel.xlsx')\n",
    "\n"
   ]
  },
  {
   "cell_type": "code",
   "execution_count": null,
   "metadata": {},
   "outputs": [],
   "source": []
  }
 ],
 "metadata": {
  "kernelspec": {
   "display_name": "Python 3",
   "language": "python",
   "name": "python3"
  },
  "language_info": {
   "codemirror_mode": {
    "name": "ipython",
    "version": 3
   },
   "file_extension": ".py",
   "mimetype": "text/x-python",
   "name": "python",
   "nbconvert_exporter": "python",
   "pygments_lexer": "ipython3",
   "version": "3.8.5"
  }
 },
 "nbformat": 4,
 "nbformat_minor": 4
}
