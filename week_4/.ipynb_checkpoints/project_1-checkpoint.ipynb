{
 "cells": [
  {
   "cell_type": "code",
   "execution_count": null,
   "metadata": {},
   "outputs": [],
   "source": [
    "from openpyxl import Workbook, load_workbook\n",
    "\n",
    "wb = Workbook()\n",
    "\n",
    "ws = wb.active\n",
    "ws.title = \"Students\"\n",
    "column = ['Name', 'Age', 'Height', 'Scores']\n",
    "\n",
    "Ann = ['Ann', 14, 5.5, 80]\n",
    "Jane = ['Jane', 16, 6.0, 85]\n",
    "Joan = ['Joan', 14, 5.4, 70]\n",
    "Clare = ['Clare', 17, 5.9, 60]\n",
    "Elizabeth = ['Elizabeth', 16, 5.6, 76]\n",
    "\n",
    "Girls = [Ann, Jane, Joan, Clare, Elizabeth]\n",
    "\n",
    "ws.append(column)\n",
    "ws. append(['GIRLS'])\n",
    "for i in Girls:\n",
    "    ws.append(i)\n",
    "    \n",
    "wb.save('week_5_project_1_excel.xlsx')"
   ]
  }
 ],
 "metadata": {
  "kernelspec": {
   "display_name": "Python 3",
   "language": "python",
   "name": "python3"
  },
  "language_info": {
   "codemirror_mode": {
    "name": "ipython",
    "version": 3
   },
   "file_extension": ".py",
   "mimetype": "text/x-python",
   "name": "python",
   "nbconvert_exporter": "python",
   "pygments_lexer": "ipython3",
   "version": "3.8.5"
  }
 },
 "nbformat": 4,
 "nbformat_minor": 4
}
