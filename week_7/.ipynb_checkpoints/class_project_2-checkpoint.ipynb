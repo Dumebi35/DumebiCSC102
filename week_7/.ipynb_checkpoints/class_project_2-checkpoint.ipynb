{
 "cells": [
  {
   "cell_type": "code",
   "execution_count": 24,
   "metadata": {},
   "outputs": [
    {
     "name": "stdout",
     "output_type": "stream",
     "text": [
      "   Export                         Brand\n",
      "0  Butter             CADBURY BOURNVITA\n",
      "1    Cake  CADBURY 3-in-1 HOT CHOCOLATE\n",
      "2  Liquor                TOMTOM CLASSIC\n",
      "3                     TOMTOM STRAWBERRY\n",
      "4                            BUTTERMINT\n",
      "5                          COCOA POWDER\n",
      "6                          COCOA BUTTER\n",
      "\n",
      "  Refreshment Beverages Confectionary Intermediate Cocoa Products\n",
      "0             Bournvita       Tom Tom                cocoa powder\n",
      "1         Hot Chocolate    Buttermint                cocoa butter\n",
      "2                                                    cocoa liquor\n",
      "3                                                      cocoa cake\n"
     ]
    }
   ],
   "source": [
    "import pandas as ps\n",
    "\n",
    "data = {\"Export\" : [\"Butter\", 'Cake', 'Liquor', \"\" , \"\", \"\", \"\"], \n",
    "        #'Segment': [{'Refreshment Beverages':['Bournvita and Hot Chocolate', 'Confectionery'], 'Intermediate Cocoa Products.', \"\", \"\", \"\", \"\"}],\n",
    "       'Brand': ['CADBURY BOURNVITA','CADBURY 3-in-1 HOT CHOCOLATE', 'TOMTOM CLASSIC', 'TOMTOM STRAWBERRY', 'BUTTERMINT','COCOA POWDER', 'COCOA BUTTER']}\n",
    "\n",
    "df = ps.DataFrame(data)\n",
    "\n",
    "segment = {'Refreshment Beverages':['Bournvita', 'Hot Chocolate', \"\" , \"\",], \n",
    "           'Confectionary':['Tom Tom', 'Buttermint', \"\" , \"\",],\n",
    "           'Intermediate Cocoa Products':['cocoa powder', 'cocoa butter', 'cocoa liquor', 'cocoa cake']}\n",
    "\n",
    "ds = ps.DataFrame(segment)\n",
    "# Print the output.\n",
    "print(df)\n",
    "\n",
    "print(\"\")\n",
    "\n",
    "print(ds)\n",
    "\n",
    "#table = [df, ds]\n",
    "writer = ps.ExcelWriter('pandas_multiple.xlsx', engine='xlsxwriter')\n",
    "\n",
    "# Position the dataframes in the worksheet.\n",
    "df.to_excel(writer, sheet_name='Sheet1')  # Default position, cell A1.\n",
    "ds.to_excel(writer, sheet_name='Sheet1', startcol=5)\n",
    "\n",
    "read_file = ps.read_excel (r'pandas_multiple.xlsx')\n",
    "read_file.to_csv (r'cadbury_market.csv', index = None, header=True)\n",
    "writer.save()"
   ]
  },
  {
   "cell_type": "code",
   "execution_count": null,
   "metadata": {},
   "outputs": [],
   "source": []
  },
  {
   "cell_type": "code",
   "execution_count": null,
   "metadata": {},
   "outputs": [],
   "source": []
  }
 ],
 "metadata": {
  "kernelspec": {
   "display_name": "Python 3",
   "language": "python",
   "name": "python3"
  },
  "language_info": {
   "codemirror_mode": {
    "name": "ipython",
    "version": 3
   },
   "file_extension": ".py",
   "mimetype": "text/x-python",
   "name": "python",
   "nbconvert_exporter": "python",
   "pygments_lexer": "ipython3",
   "version": "3.8.5"
  }
 },
 "nbformat": 4,
 "nbformat_minor": 4
}
