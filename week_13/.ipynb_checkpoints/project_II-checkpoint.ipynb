{
 "cells": [
  {
   "cell_type": "markdown",
   "metadata": {},
   "source": [
    "# PROJECT II"
   ]
  },
  {
   "cell_type": "code",
   "execution_count": null,
   "metadata": {},
   "outputs": [],
   "source": [
    "import pandas as pd\n",
    "\n",
    "data = {'Name': ['Akanbi Joel', 'Delegiwa Olaye', 'Martha Ojeh', 'Fadiku Ojo', 'Olaye Tunde', 'Michal Jobs', \n",
    "        'Adegbesan Ani', 'Faith Moses', 'Juwon Ade', 'Edward Lawal'],\n",
    "        'Years of Service': [16, 12, 20,15, 11,  30, 10, 22, 12, 9],\n",
    "        'Accumulated Benefits (units)': [300, 150, 100, 450, 200, 170, 250, 80, 120, 280]} \n",
    "        \n",
    "table = pd.DataFrame(data)\n",
    "AccruedBenefits = []\n",
    " \n",
    "for i in range(10):\n",
    "    accrued = table['Accumulated Benefits (units)'][i] * table['Years of Service'][i]\n",
    "    AccruedBenefits.append(accrued)\n",
    "    \n",
    "table['Accrued benefits']= AccruedBenefits\n",
    "#table = pd.DataFrame(data\n",
    "table.to_csv(\"WOW.csv\")\n",
    "print(table)\n",
    "\n",
    "print(table.iloc[0:10, 0:4:3])\n",
    "\n",
    "columns = []\n",
    "\n",
    "'''for i in table:\n",
    "    columns.append(i)\n",
    "print(columns)\n",
    "\n",
    "for i in range(2):\n",
    "    print(table[columns[i]])'''"
   ]
  },
  {
   "cell_type": "code",
   "execution_count": null,
   "metadata": {},
   "outputs": [],
   "source": [
    "import numpy as np \n",
    "\n",
    "a = np.array([[1,2,3],\n",
    "              [4,5,6]])\n",
    "\n",
    "b = np.array([[10,11,12],\n",
    "              [13,14,15]])\n",
    "\n",
    "c = a + b\n",
    "\n",
    "print(c)"
   ]
  },
  {
   "cell_type": "code",
   "execution_count": null,
   "metadata": {},
   "outputs": [],
   "source": [
    "import numpy as np \n",
    "\n",
    "a = np.array([1,2,3,\n",
    "              4,5,6])\n",
    "\n",
    "b = 2*a # multiplying the numpy array a(matrix) by 2\n",
    "\n",
    "print(b)\n",
    " \n",
    "np.eye(3)"
   ]
  },
  {
   "cell_type": "code",
   "execution_count": null,
   "metadata": {},
   "outputs": [],
   "source": [
    "import pandas as pd\n",
    "\n",
    "#create DataFrame\n",
    "df = pd.DataFrame({'Name': ['Akanbi Joel', 'Delegiwa Olaye', 'Martha Ojeh', 'Fadiku Ojo', 'Olaye Tunde', 'Michal Jobs', \n",
    "        'Adegbesan Ani', 'Faith Moses', 'Juwon Ade', 'Edward Lawal'],\n",
    "        'Years of Service': [16, 12, 20,15, 11,  30, 10, 22, 12, 9],\n",
    "        'Accumulated Benefits (units)': [300, 150, 100, 450, 200, 170, 250, 80, 120, 280]},\n",
    "                   index=['A', 'B', 'C', 'D', 'E', 'F', 'G', 'H', 'I', 'J'])\n",
    "\n",
    "#view DataFrame\n",
    "df\n",
    "df.loc['E']\n"
   ]
  },
  {
   "cell_type": "code",
   "execution_count": null,
   "metadata": {},
   "outputs": [],
   "source": [
    "values = ('smile','happy')\n",
    "\n",
    "formats = \"When we %s we are %s\"\n",
    "print(formats %values)"
   ]
  },
  {
   "cell_type": "code",
   "execution_count": null,
   "metadata": {},
   "outputs": [],
   "source": [
    "rewa = 13.569\n",
    "\n",
    "print('%.1f'%rewa)"
   ]
  },
  {
   "cell_type": "code",
   "execution_count": null,
   "metadata": {},
   "outputs": [],
   "source": [
    "la = ['r','e','p']\n",
    "si='+'\n",
    "lag = si.join(la)\n",
    "print(lag)\n",
    "print(lag.split(si))"
   ]
  },
  {
   "cell_type": "markdown",
   "metadata": {},
   "source": [
    "# PROJECT I"
   ]
  },
  {
   "cell_type": "markdown",
   "metadata": {},
   "source": [
    "You have been invited over by the University Management Council (UMC) of the University. \n",
    "The President of the Council has asked you to develop a python program to take as input \n",
    "the grades for all the subjects in Computer Science second semester CSC 201, CSC 205 and STA 205, \n",
    "and calculate the total, average and percentage.\n"
   ]
  },
  {
   "cell_type": "code",
   "execution_count": null,
   "metadata": {},
   "outputs": [],
   "source": [
    "import pandas as pd\n",
    "#class ComputerSci():\n",
    "    #data = {}\n",
    "    #def __init__(self, studentNumber):\n",
    "        #self.studentNumber = studentNumber\n",
    "    #def check_no(self):\n",
    "    \n",
    "class CSC_201(): \n",
    "    grade_201 = input(\"Enter the grades for the subject:\")\n",
    "    grades_201 = list(grade.split(','))\n",
    "    data_201 = pd.DataFrame({'Grades':grades_201})\n",
    "    #data.columns = ['Friends']\n",
    "    #data.style.set_caption(\"Hello World\")\n",
    "    def display_table(self):\n",
    "        print(self.data_201)\n",
    "        \n",
    "class CSC_205():\n",
    "    grade_205 = input(\"Enter the grades for the subject:\")\n",
    "    grades_205 = list(grade.split(','))\n",
    "    data_205 = pd.DataFrame({'Grades':grades_205})\n",
    "    def display_table(self):\n",
    "        print(self.data_205)\n",
    "        \n",
    "class ComputerSci(CSC_201,CSC_205):\n",
    "    def display_table(self):\n",
    "        print(CSC_205.data_205)\n",
    "    \n",
    "    \n",
    "    \n",
    "wow = ComputerSci()\n",
    "wow.display_table()"
   ]
  },
  {
   "cell_type": "code",
   "execution_count": null,
   "metadata": {},
   "outputs": [],
   "source": []
  }
 ],
 "metadata": {
  "kernelspec": {
   "display_name": "Python 3",
   "language": "python",
   "name": "python3"
  },
  "language_info": {
   "codemirror_mode": {
    "name": "ipython",
    "version": 3
   },
   "file_extension": ".py",
   "mimetype": "text/x-python",
   "name": "python",
   "nbconvert_exporter": "python",
   "pygments_lexer": "ipython3",
   "version": "3.8.5"
  }
 },
 "nbformat": 4,
 "nbformat_minor": 4
}
