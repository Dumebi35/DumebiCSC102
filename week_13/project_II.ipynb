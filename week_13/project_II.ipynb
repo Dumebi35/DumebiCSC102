{
 "cells": [
  {
   "cell_type": "markdown",
   "metadata": {},
   "source": [
    "# PROJECT II"
   ]
  },
  {
   "cell_type": "code",
   "execution_count": null,
   "metadata": {},
   "outputs": [],
   "source": [
    "import pandas as pd\n",
    "\n",
    "data = {'Name': ['Akanbi Joel', 'Delegiwa Olaye', 'Martha Ojeh', 'Fadiku Ojo', 'Olaye Tunde', 'Michal Jobs', \n",
    "        'Adegbesan Ani', 'Faith Moses', 'Juwon Ade', 'Edward Lawal'],\n",
    "        'Years of Service': [16, 12, 20,15, 11,  30, 10, 22, 12, 9],\n",
    "        'Accumulated Benefits (units)': [300, 150, 100, 450, 200, 170, 250, 80, 120, 280]} \n",
    "        \n",
    "table = pd.DataFrame(data)\n",
    "AccruedBenefits = []\n",
    " \n",
    "for i in range(10):\n",
    "    accrued = table['Accumulated Benefits (units)'][i] * table['Years of Service'][i]\n",
    "    AccruedBenefits.append(accrued)\n",
    "    \n",
    "table['Accrued benefits']= AccruedBenefits\n",
    "#table = pd.DataFrame(data\n",
    "table.to_csv(\"WOW.csv\")\n",
    "print(table)\n",
    "\n",
    "print(table.iloc[0:10, 0:4:3])\n",
    "\n",
    "columns = []\n",
    "\n",
    "'''for i in table:\n",
    "    columns.append(i)\n",
    "print(columns)\n",
    "\n",
    "for i in range(2):\n",
    "    print(table[columns[i]])'''"
   ]
  },
  {
   "cell_type": "code",
   "execution_count": null,
   "metadata": {},
   "outputs": [],
   "source": [
    "import numpy as np \n",
    "\n",
    "a = np.array([[1,2,3],\n",
    "              [4,5,6]])\n",
    "\n",
    "b = np.array([[10,11,12],\n",
    "              [13,14,15]])\n",
    "\n",
    "c = a + b\n",
    "\n",
    "print(c)"
   ]
  },
  {
   "cell_type": "code",
   "execution_count": null,
   "metadata": {},
   "outputs": [],
   "source": [
    "import numpy as np \n",
    "\n",
    "a = np.array([1,2,3,\n",
    "              4,5,6])\n",
    "\n",
    "b = 2*a # multiplying the numpy array a(matrix) by 2\n",
    "\n",
    "print(b)\n",
    " \n",
    "np.eye(3)"
   ]
  },
  {
   "cell_type": "code",
   "execution_count": null,
   "metadata": {},
   "outputs": [],
   "source": [
    "import pandas as pd\n",
    "\n",
    "#create DataFrame\n",
    "df = pd.DataFrame({'Name': ['Akanbi Joel', 'Delegiwa Olaye', 'Martha Ojeh', 'Fadiku Ojo', 'Olaye Tunde', 'Michal Jobs', \n",
    "        'Adegbesan Ani', 'Faith Moses', 'Juwon Ade', 'Edward Lawal'],\n",
    "        'Years of Service': [16, 12, 20,15, 11,  30, 10, 22, 12, 9],\n",
    "        'Accumulated Benefits (units)': [300, 150, 100, 450, 200, 170, 250, 80, 120, 280]},\n",
    "                   index=['A', 'B', 'C', 'D', 'E', 'F', 'G', 'H', 'I', 'J'])\n",
    "\n",
    "#view DataFrame\n",
    "df\n",
    "df.loc['E']\n"
   ]
  },
  {
   "cell_type": "code",
   "execution_count": null,
   "metadata": {},
   "outputs": [],
   "source": [
    "values = ('smile','happy')\n",
    "\n",
    "formats = \"When we %s we are %s\"\n",
    "print(formats %values)"
   ]
  },
  {
   "cell_type": "code",
   "execution_count": null,
   "metadata": {},
   "outputs": [],
   "source": [
    "rewa = 13.569\n",
    "\n",
    "print('%.1f'%rewa)"
   ]
  },
  {
   "cell_type": "code",
   "execution_count": null,
   "metadata": {},
   "outputs": [],
   "source": [
    "la = ['r','e','p']\n",
    "si='+'\n",
    "lag = si.join(la)\n",
    "print(lag)\n",
    "print(lag.split(si))"
   ]
  },
  {
   "cell_type": "markdown",
   "metadata": {},
   "source": [
    "# PROJECT I"
   ]
  },
  {
   "cell_type": "markdown",
   "metadata": {},
   "source": [
    "You have been invited over by the University Management Council (UMC) of the University. \n",
    "The President of the Council has asked you to develop a python program to take as input \n",
    "the grades for all the subjects in Computer Science second semester CSC 201, CSC 205 and STA 205, \n",
    "and calculate the total, average and percentage.\n"
   ]
  },
  {
   "cell_type": "code",
   "execution_count": 15,
   "metadata": {},
   "outputs": [
    {
     "name": "stdout",
     "output_type": "stream",
     "text": [
      "Enter the grades for CSC 201 subject:3\n"
     ]
    },
    {
     "ename": "AttributeError",
     "evalue": "'int' object has no attribute 'split'",
     "output_type": "error",
     "traceback": [
      "\u001b[1;31m---------------------------------------------------------------------------\u001b[0m",
      "\u001b[1;31mAttributeError\u001b[0m                            Traceback (most recent call last)",
      "\u001b[1;32m<ipython-input-15-882c74146d33>\u001b[0m in \u001b[0;36m<module>\u001b[1;34m\u001b[0m\n\u001b[0;32m      6\u001b[0m     \u001b[1;31m#def check_no(self):\u001b[0m\u001b[1;33m\u001b[0m\u001b[1;33m\u001b[0m\u001b[1;33m\u001b[0m\u001b[0m\n\u001b[0;32m      7\u001b[0m \u001b[1;33m\u001b[0m\u001b[0m\n\u001b[1;32m----> 8\u001b[1;33m \u001b[1;32mclass\u001b[0m \u001b[0mCSC_201\u001b[0m\u001b[1;33m(\u001b[0m\u001b[1;33m)\u001b[0m\u001b[1;33m:\u001b[0m\u001b[1;33m\u001b[0m\u001b[1;33m\u001b[0m\u001b[0m\n\u001b[0m\u001b[0;32m      9\u001b[0m \u001b[1;33m\u001b[0m\u001b[0m\n\u001b[0;32m     10\u001b[0m     \u001b[0mgrade_201\u001b[0m \u001b[1;33m=\u001b[0m \u001b[0mint\u001b[0m\u001b[1;33m(\u001b[0m\u001b[0minput\u001b[0m\u001b[1;33m(\u001b[0m\u001b[1;34m\"Enter the grades for CSC 201 subject:\"\u001b[0m\u001b[1;33m)\u001b[0m\u001b[1;33m)\u001b[0m\u001b[1;33m\u001b[0m\u001b[1;33m\u001b[0m\u001b[0m\n",
      "\u001b[1;32m<ipython-input-15-882c74146d33>\u001b[0m in \u001b[0;36mCSC_201\u001b[1;34m()\u001b[0m\n\u001b[0;32m      9\u001b[0m \u001b[1;33m\u001b[0m\u001b[0m\n\u001b[0;32m     10\u001b[0m     \u001b[0mgrade_201\u001b[0m \u001b[1;33m=\u001b[0m \u001b[0mint\u001b[0m\u001b[1;33m(\u001b[0m\u001b[0minput\u001b[0m\u001b[1;33m(\u001b[0m\u001b[1;34m\"Enter the grades for CSC 201 subject:\"\u001b[0m\u001b[1;33m)\u001b[0m\u001b[1;33m)\u001b[0m\u001b[1;33m\u001b[0m\u001b[1;33m\u001b[0m\u001b[0m\n\u001b[1;32m---> 11\u001b[1;33m     \u001b[0mgrades_201\u001b[0m \u001b[1;33m=\u001b[0m \u001b[0mlist\u001b[0m\u001b[1;33m(\u001b[0m\u001b[0mgrade_201\u001b[0m\u001b[1;33m.\u001b[0m\u001b[0msplit\u001b[0m\u001b[1;33m(\u001b[0m\u001b[1;34m','\u001b[0m\u001b[1;33m)\u001b[0m\u001b[1;33m)\u001b[0m\u001b[1;33m\u001b[0m\u001b[1;33m\u001b[0m\u001b[0m\n\u001b[0m\u001b[0;32m     12\u001b[0m     \u001b[0mdata_201\u001b[0m \u001b[1;33m=\u001b[0m \u001b[0mpd\u001b[0m\u001b[1;33m.\u001b[0m\u001b[0mDataFrame\u001b[0m\u001b[1;33m(\u001b[0m\u001b[1;33m{\u001b[0m\u001b[1;34m'Grades'\u001b[0m\u001b[1;33m:\u001b[0m\u001b[0mgrades_201\u001b[0m\u001b[1;33m}\u001b[0m\u001b[1;33m)\u001b[0m\u001b[1;33m\u001b[0m\u001b[1;33m\u001b[0m\u001b[0m\n\u001b[0;32m     13\u001b[0m     \u001b[1;31m#data.columns = ['Friends']\u001b[0m\u001b[1;33m\u001b[0m\u001b[1;33m\u001b[0m\u001b[1;33m\u001b[0m\u001b[0m\n",
      "\u001b[1;31mAttributeError\u001b[0m: 'int' object has no attribute 'split'"
     ]
    }
   ],
   "source": [
    "import pandas as pd\n",
    "#class ComputerSci():\n",
    "    #data = {}\n",
    "    #def __init__(self, studentNumber):\n",
    "        #self.studentNumber = studentNumber\n",
    "    #def check_no(self):\n",
    "    \n",
    "class CSC_201(): \n",
    "    \n",
    "    grade_201 = input(\"Enter the grades for CSC 201 subject:\")\n",
    "    grades_201 = list(grade_201.split(','))\n",
    "    data_201 = pd.DataFrame({'Grades':grades_201})\n",
    "    #data.columns = ['Friends']\n",
    "    #data.style.set_caption(\"Hello World\")\n",
    "    def display_table(self):\n",
    "        print(self.data_201)\n",
    "        \n",
    "class CSC_205():\n",
    "    \n",
    "    grade_205 = input(\"Enter the grades for CSC 205 subject:\")\n",
    "    grades_205 = list(grade_205.split(','))\n",
    "    data_205 = pd.DataFrame({'Grades':grades_205})\n",
    "    def display_table(self):\n",
    "        print(self.data_205)\n",
    "        \n",
    "class ComputerSci(CSC_201,CSC_205):\n",
    "\n",
    "    Ave = []\n",
    "    Tot = []\n",
    "    for i in CSC_201.data_201['Grades']:\n",
    "        total = i + i\n",
    "        Tot.append(total)\n",
    "    def display_table(self):\n",
    "        print(CSC_205.data_205)\n",
    "        print(self.Tot)\n",
    "    \n",
    "    \n",
    "    \n",
    "wow = ComputerSci()\n",
    "wow.display_table()"
   ]
  },
  {
   "cell_type": "code",
   "execution_count": 24,
   "metadata": {},
   "outputs": [
    {
     "name": "stdout",
     "output_type": "stream",
     "text": [
      "Enter the grades for CSC 201 subject:3,4,5\n"
     ]
    },
    {
     "ename": "TypeError",
     "evalue": "'int' object is not iterable",
     "output_type": "error",
     "traceback": [
      "\u001b[1;31m---------------------------------------------------------------------------\u001b[0m",
      "\u001b[1;31mTypeError\u001b[0m                                 Traceback (most recent call last)",
      "\u001b[1;32m<ipython-input-24-4c099e792288>\u001b[0m in \u001b[0;36m<module>\u001b[1;34m\u001b[0m\n\u001b[0;32m     14\u001b[0m         \u001b[0mprint\u001b[0m\u001b[1;33m(\u001b[0m\u001b[0mself\u001b[0m\u001b[1;33m.\u001b[0m\u001b[0madd\u001b[0m\u001b[1;33m)\u001b[0m\u001b[1;33m\u001b[0m\u001b[1;33m\u001b[0m\u001b[0m\n\u001b[0;32m     15\u001b[0m \u001b[1;31m#play = sum(3,5)\u001b[0m\u001b[1;33m\u001b[0m\u001b[1;33m\u001b[0m\u001b[1;33m\u001b[0m\u001b[0m\n\u001b[1;32m---> 16\u001b[1;33m \u001b[0mprint\u001b[0m\u001b[1;33m(\u001b[0m\u001b[0msum\u001b[0m\u001b[1;33m(\u001b[0m\u001b[1;36m3\u001b[0m\u001b[1;33m,\u001b[0m\u001b[1;36m5\u001b[0m\u001b[1;33m)\u001b[0m\u001b[1;33m)\u001b[0m\u001b[1;33m\u001b[0m\u001b[1;33m\u001b[0m\u001b[0m\n\u001b[0m\u001b[0;32m     17\u001b[0m \u001b[0mwow\u001b[0m \u001b[1;33m=\u001b[0m \u001b[0mCSC_201\u001b[0m\u001b[1;33m(\u001b[0m\u001b[1;33m)\u001b[0m\u001b[1;33m\u001b[0m\u001b[1;33m\u001b[0m\u001b[0m\n\u001b[0;32m     18\u001b[0m \u001b[0mwow\u001b[0m\u001b[1;33m.\u001b[0m\u001b[0mdisplay_table\u001b[0m\u001b[1;33m(\u001b[0m\u001b[1;33m)\u001b[0m\u001b[1;33m\u001b[0m\u001b[1;33m\u001b[0m\u001b[0m\n",
      "\u001b[1;31mTypeError\u001b[0m: 'int' object is not iterable"
     ]
    }
   ],
   "source": [
    "class CSC_201(): \n",
    "    \n",
    "    grade_201 = (input(\"Enter the grades for CSC 201 subject:\"))\n",
    "    grades = []\n",
    "    grades_201 = list(grade_201.split(','))\n",
    "    \n",
    "    for i in grades_201:\n",
    "        grades.append(int(i))\n",
    "        add = sum(grades)\n",
    "    #data.columns = ['Friends']\n",
    "    #data.style.set_caption(\"Hello World\")\n",
    "    def display_table(self):\n",
    "        print(self.grades)\n",
    "        print(self.add)\n",
    "#play = sum(3,5)       \n",
    "print(sum(3,5))\n",
    "wow = CSC_201()\n",
    "wow.display_table()"
   ]
  },
  {
   "cell_type": "code",
   "execution_count": null,
   "metadata": {},
   "outputs": [],
   "source": []
  }
 ],
 "metadata": {
  "kernelspec": {
   "display_name": "Python 3",
   "language": "python",
   "name": "python3"
  },
  "language_info": {
   "codemirror_mode": {
    "name": "ipython",
    "version": 3
   },
   "file_extension": ".py",
   "mimetype": "text/x-python",
   "name": "python",
   "nbconvert_exporter": "python",
   "pygments_lexer": "ipython3",
   "version": "3.8.5"
  }
 },
 "nbformat": 4,
 "nbformat_minor": 4
}
